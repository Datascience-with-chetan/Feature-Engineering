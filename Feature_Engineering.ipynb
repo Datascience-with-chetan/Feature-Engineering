{
  "nbformat": 4,
  "nbformat_minor": 0,
  "metadata": {
    "colab": {
      "provenance": []
    },
    "kernelspec": {
      "name": "python3",
      "display_name": "Python 3"
    },
    "language_info": {
      "name": "python"
    }
  },
  "cells": [
    {
      "cell_type": "markdown",
      "source": [
        "#Assignment Questions\n"
      ],
      "metadata": {
        "id": "h8evI0QOb9Jv"
      }
    },
    {
      "cell_type": "markdown",
      "source": [
        "1.What is parameter\n",
        "- A parameter is a value or rule that helps define how something works or sets limits for it.\n",
        "\n",
        "  - In math, parameters are numbers that shape a formula (like the numbers in an equation).\n",
        "\n",
        "  - In statistics, a parameter describes something about a whole group (like the average of all people in a country).\n",
        "\n",
        "In computer programming, parameters are values you give to a function so it knows what to do."
      ],
      "metadata": {
        "id": "M7a5LhhlcCQt"
      }
    },
    {
      "cell_type": "markdown",
      "source": [
        "2.What is correlation?What does negative correlation mean?\n",
        "- Correlation is a statistical measure that shows how two variables are related to each other. It tells us if changes in one variable are linked to changes in another and how strong that link is.\n",
        "- If the correlation is negative, as one variable increases, the other decreases (like elevation and temperature: as you go higher, it gets cooler)"
      ],
      "metadata": {
        "id": "wx4nPVD_cis-"
      }
    },
    {
      "cell_type": "markdown",
      "source": [
        "3.Define Machine Learning. What are the main components in Machine Learning?\n",
        "- Machine Learning is a way for computers to learn from data and get better at tasks without being told exactly what to do.\n",
        "\n",
        "- Main parts of Machine Learning:\n",
        "  - Data: Information the computer learns from.\n",
        "\n",
        "  - Algorithm: The rules or steps the computer follows to learn.\n",
        "\n",
        "  - Training: The process of learning from data.\n",
        "\n",
        "  - Features: Important details in the data used to make decisions.\n",
        "\n",
        "  - Evaluation: Checking how good the computer’s learning is.\n",
        "\n",
        "  - Prediction: The result or answer the computer gives after learning."
      ],
      "metadata": {
        "id": "JCz1EKObc7gc"
      }
    },
    {
      "cell_type": "markdown",
      "source": [
        "4.How does loss value help in determining whether the model is good or not?\n",
        "- Loss value is a key indicator of how well a machine learning model is performing. It measures the difference between the model’s predictions and the actual values (also called the \"ground truth\").\n",
        "\n",
        "  - Low loss value: Indicates that the model’s predictions are close to the real values, which means the model is performing well.\n",
        "\n",
        "  - High loss value: Shows that there is a large gap between the predictions and the actual values, suggesting the model is not making good predictions\n",
        "- loss value helps you judge if your model is good or not: the lower the loss, the better the model’s predictions"
      ],
      "metadata": {
        "id": "I3NDG8YQdWM-"
      }
    },
    {
      "cell_type": "markdown",
      "source": [
        "5.What are continuous and categorical variables?\n",
        "- Continuous variables are numbers you can measure and have many possible values, like height or temperature.\n",
        "\n",
        "- Categorical variables are groups or labels, like colors or types of animals.\n",
        "\n",
        "- Continuous = numbers you can measure.\n",
        "- Categorical = names or categories."
      ],
      "metadata": {
        "id": "SY4NFv-6dr_8"
      }
    },
    {
      "cell_type": "markdown",
      "source": [
        "6.How do we handle categorical variables in Machine Learning? What are the common techniques?\n",
        " - To use categorical variables in machine learning, first convert them into numbers using simple methods called encoding. The most common and easy techniques are:\n",
        "\n",
        "  - Label Encoding: Give each category a unique number. For example, \"red\" = 1, \"blue\" = 2, \"green\" = 3. Use this for categories with or without order.\n",
        "\n",
        "  - One-Hot Encoding: Make new columns for each category, using 1 or 0 to show if the category is present. For example, if you have color columns \"red\", \"blue\", and \"green\", each row will have a 1 in the column that matches its color and 0 in the others\n",
        "  \n",
        "- These methods help the model understand and use groups or labels as numbers. Use label encoding for simple cases, and one-hot encoding when you do not want to add order to your categories."
      ],
      "metadata": {
        "id": "b8Ic0d2JeHga"
      }
    },
    {
      "cell_type": "markdown",
      "source": [
        "7.What do you mean by training and testing a dataset?\n",
        "- Training a dataset means teaching the model using data so it can learn patterns.\n",
        "- Testing a dataset means checking the model with new data to see how well it works.\n",
        "\n",
        "Training = learning,\n",
        "Testing = checking accuracy"
      ],
      "metadata": {
        "id": "8xJ8tk8vfqs2"
      }
    },
    {
      "cell_type": "markdown",
      "source": [
        "8.What is sklearn.preprocessing?\n",
        "- sklearn.preprocessing is a part of the scikit-learn library that helps prepare your data for machine learning. It includes tools to:\n",
        "\n",
        "  - Change data to a common scale (scaling/normalizing)\n",
        "\n",
        "  - Convert text or categories into numbers (encoding)\n",
        "\n",
        "  - Fill missing values\n",
        "\n",
        "  - Turn numbers into groups or simple yes/no (binarize)\n",
        "\n",
        "- This makes your data ready and easy for models to learn from."
      ],
      "metadata": {
        "id": "-faqlKEwgKk_"
      }
    },
    {
      "cell_type": "markdown",
      "source": [
        "9.What is a test set?\n",
        "- A test set is data saved to check how well a trained model works on new, unseen examples. It helps see if the model can make good predictions"
      ],
      "metadata": {
        "id": "7uAdCJHYgmyG"
      }
    },
    {
      "cell_type": "markdown",
      "source": [
        "10.How do we split data for model fitting (training and testing) in Python?\n",
        " How do you approach a Machine Learning problem?\n",
        " - - Use train_test_split from scikit-learn to split data:\n",
        "\n",
        "```\n",
        "# This is formatted as code\n",
        "from sklearn.model_selection import train_test_split\n",
        "\n",
        "X_train, X_test, y_train, y_test = train_test_split(X, y, test_size=0.2, random_state=42)\n",
        "\n",
        "```\n",
        " - Use train_test_split from scikit-learn to divide data into training and testing parts.\n",
        "- How to solve a Machine Learning problem:\n",
        "\n",
        "  - Understand the problem and data\n",
        "\n",
        "  - Clean and prepare the data\n",
        "\n",
        "  - Split data into training and testing sets\n",
        "\n",
        "  - Choose a model\n",
        "\n",
        "  - Train the model with training data\n",
        "\n",
        "  - Test the model with testing data\n",
        "\n",
        "  - Improve the model if needed\n",
        "\n",
        "  - Use the model for predictions\n",
        "\n",
        "- This simple process helps build and check good machine learning models"
      ],
      "metadata": {
        "id": "SvezZ8bPg5gr"
      }
    },
    {
      "cell_type": "markdown",
      "source": [
        "11.Why do we have to perform EDA before fitting a model to the data?\n",
        "- We do EDA (Exploratory Data Analysis) before fitting a model to:\n",
        "\n",
        "- Understand the data better\n",
        "\n",
        "- Find and fix errors or missing values\n",
        "\n",
        "- See patterns and important features\n",
        "\n",
        "- Choose the right model and steps\n",
        "\n",
        "EDA helps make sure the model works well and gives accurate results."
      ],
      "metadata": {
        "id": "XvVL6LFNiBxI"
      }
    },
    {
      "cell_type": "markdown",
      "source": [
        "12.What is correlation?\n",
        "- Correlation is a statistical method used to measure and show how strongly two variables are related to each other. If the values of one variable change in a similar way to another, they are said to have a correlation.\n",
        "\n",
        "- A positive correlation means that as one variable increases, the other also increases.\n",
        "\n",
        "- A negative correlation means that as one variable increases, the other decreases.\n",
        "\n",
        "If the value is close to zero, there is little or no relationship between the variables"
      ],
      "metadata": {
        "id": "2OZWCEu3lb3e"
      }
    },
    {
      "cell_type": "markdown",
      "source": [
        "13.What does negative correlation mean?\n",
        "- Negative correlation means when one thing goes up, the other goes down. They move in opposite ways.\n",
        "\n",
        "For example, more study time can mean less free time."
      ],
      "metadata": {
        "id": "8rfw8LEQltE1"
      }
    },
    {
      "cell_type": "markdown",
      "source": [],
      "metadata": {
        "id": "lSDy6vRjtTBY"
      }
    },
    {
      "cell_type": "markdown",
      "source": [],
      "metadata": {
        "id": "s8xS9TPftUVL"
      }
    },
    {
      "cell_type": "markdown",
      "source": [
        "14.How can you find correlation between variables in Python?\n",
        "- To find correlation in Python:\n",
        "Using pandas (for data in a table):\n",
        "\n",
        "\n",
        "```\n",
        "# This is formatted as code\n",
        "df.corr()               \n",
        "df['col1'].corr(df['col2'])\n",
        "```\n",
        "\n",
        "\n",
        "Using numpy (for lists or arrays):\n",
        "\n",
        "\n",
        "```\n",
        "# This is formatted as code\n",
        "np.corrcoef(x, y)[0, 1]\n",
        "```\n",
        "\n"
      ],
      "metadata": {
        "id": "CgrBsvgztWhG"
      }
    },
    {
      "cell_type": "markdown",
      "source": [
        "15.What is causation? Explain difference between correlation and causation with an example.\n",
        "- Causation means one thing causes another to happen.\n",
        "- Correlation means two things happen together but one does not cause the other.\n",
        "\n",
        "- Correlation: Ice cream sales and sunburns both go up in summer, but ice cream does not cause sunburn.\n",
        "\n",
        "- Causation: Pressing a switch causes the light to turn on.\n",
        "\n",
        "So, correlation = related, causation = cause and effect.\n"
      ],
      "metadata": {
        "id": "td1shoennDj2"
      }
    },
    {
      "cell_type": "markdown",
      "source": [
        "16.What is an Optimizer? What are different types of optimizers? Explain each with an example.\n",
        "- Optimizer helps a model learn by changing its settings (like weights) to reduce errors.\n",
        "- Types of Optimizers:\n",
        "\n",
        "  - Gradient Descent: Uses all data to update the model slowly.\n",
        "\n",
        "  - Stochastic Gradient Descent (SGD): Updates using small batches, faster but less smooth.\n",
        "\n",
        "  - Momentum: Speeds up learning by remembering past updates.\n",
        "\n",
        "  - Adam: Combines momentum and adapts steps smartly; works well for most problems.\n",
        "- Gradient Descent = walking downhill slowly using the full path\n",
        "- SGD = walking downhill taking small quick steps\n",
        "- Adam = walking downhill quickly with smart steps and remembering past moves."
      ],
      "metadata": {
        "id": "CFekqRVonuUE"
      }
    },
    {
      "cell_type": "markdown",
      "source": [
        "17.What is sklearn.linear_model?\n",
        "- sklearn.linear_model is a part of scikit-learn with tools to create linear models.\n",
        "\n",
        "- It helps you build simple models like:\n",
        "\n",
        "  - Linear Regression (predict numbers)\n",
        "\n",
        "  - Logistic Regression (predict categories)\n",
        "\n",
        "These models find a straight-line relationship between your data and the answers"
      ],
      "metadata": {
        "id": "6CY-FzpDoOry"
      }
    },
    {
      "cell_type": "markdown",
      "source": [
        "18.What does model.fit() do? What arguments must be given?\n",
        "- The model.fit() method in scikit-learn is used to train your machine learning model by learning patterns from the data you give it. It requires two main arguments:\n",
        "\n",
        "  - X: the feature matrix (input data), where rows are samples and columns are features\n",
        "\n",
        "  - y: the target vector (output labels or values for each sample)"
      ],
      "metadata": {
        "id": "PSWSDfdsord_"
      }
    },
    {
      "cell_type": "markdown",
      "source": [
        "19.What does model.predict() do? What arguments must be given?\n",
        "- model.predict() is used to make predictions with your trained model on new, unseen data.\n",
        "\n",
        "  - You must give it X, which is the input data (features) you want predictions for.\n",
        "\n",
        "  - It returns the predicted values or classes for each row in the input data"
      ],
      "metadata": {
        "id": "DseSg761pLY6"
      }
    },
    {
      "cell_type": "markdown",
      "source": [
        "20.What are continuous and categorical variables?\n",
        "- Continuous variables are those that can take any value within a range. They are measured and can have decimals. Examples include height, weight, temperature, or age.\n",
        "\n",
        "- Categorical variables are those that have a fixed set of groups or categories. They are usually described by names or labels, not numbers. Examples include hair color, city, favorite sport, or type of animal"
      ],
      "metadata": {
        "id": "OZr-EPS4p1wJ"
      }
    },
    {
      "cell_type": "markdown",
      "source": [
        "21.What is feature scaling? How does it help in Machine Learning?\n",
        "- Feature scaling means making all numerical values in your data have a similar range or scale. This is important because:\n",
        "\n",
        "  - It prevents big numbers from overpowering small numbers in the model.\n",
        "\n",
        "  - It helps algorithms like KNN, K-Means, and SVM work better.\n",
        "\n",
        "  - It makes models train faster and more accurately.\n",
        "\n",
        "- Example: If \"age\" goes from 0–100 and \"income\" from 10,000–100,000, scaling brings both to a similar scale—like 0 to 1—so one doesn't dominate."
      ],
      "metadata": {
        "id": "u-vWyi1iqG9d"
      }
    },
    {
      "cell_type": "markdown",
      "source": [
        "22.How do we perform scaling in Python?\n",
        "- To do scaling in Python, use scikit-learn:\n",
        "\n",
        "  - For standard scaling (mean 0, std 1):\n",
        "\n",
        "```\n",
        "# This is formatted as code\n",
        "from sklearn.preprocessing import StandardScaler\n",
        "scaler = StandardScaler()\n",
        "scaled_X = scaler.fit_transform(X)\n",
        "\n",
        "```\n",
        "  -  For normalization (scale 0 to 1):\n",
        "\n",
        "\n",
        "\n",
        "```\n",
        "# This is formatted as code\n",
        "from sklearn.preprocessing import MinMaxScaler\n",
        "scaler = MinMaxScaler()\n",
        "scaled_X = scaler.fit_transform(X)\n",
        "\n",
        "```\n",
        "\n"
      ],
      "metadata": {
        "id": "F9UaWmOEqhXP"
      }
    },
    {
      "cell_type": "markdown",
      "source": [
        "23.What is sklearn.preprocessing?\n",
        "- sklearn.preprocessing is a module in scikit-learn that provides tools and functions to prepare and transform raw data so it's easier for machine learning models to use. It includes methods for:\n",
        "\n",
        "  - Scaling and normalization (making data values smaller or between 0 and 1)\n",
        "\n",
        "  - Encoding categorical features (turning text labels into numbers)\n",
        "\n",
        "  - Filling in missing values\n",
        "\n",
        "  - Binarization (turning numbers into 0 or 1)\n",
        "\n",
        "  - Generating new features (like polynomial features)"
      ],
      "metadata": {
        "id": "glmV7bSkrZ1v"
      }
    },
    {
      "cell_type": "markdown",
      "source": [
        "24.How do we split data for model fitting (training and testing) in Python?\n",
        "- Use train_test_split from scikit-learn to split data:\n",
        "\n",
        "```\n",
        "# This is formatted as code\n",
        "from sklearn.model_selection import train_test_split\n",
        "\n",
        "X_train, X_test, y_train, y_test = train_test_split(X, y, test_size=0.2, random_state=42)\n",
        "\n",
        "```\n",
        "\n"
      ],
      "metadata": {
        "id": "2L5PGOcorx1R"
      }
    },
    {
      "cell_type": "markdown",
      "source": [
        "25.Explain data encoding?\n",
        "- Data encoding means changing text or categories into numbers so computers can understand them.\n",
        "\n",
        "Examples:\n",
        "\n",
        "- Label Encoding: Gives each category a number (Red=1, Blue=2).\n",
        "\n",
        "- One-Hot Encoding: Makes a new column for each category with 0 or 1.\n",
        "\n",
        "This helps machine learning models use non-numeric data easily.\n"
      ],
      "metadata": {
        "id": "5E7N60IZszQy"
      }
    },
    {
      "cell_type": "code",
      "execution_count": null,
      "metadata": {
        "id": "GGCadzPfb2YS"
      },
      "outputs": [],
      "source": []
    }
  ]
}